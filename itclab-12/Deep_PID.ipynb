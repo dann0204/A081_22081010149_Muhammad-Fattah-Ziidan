{
 "cells": [
  {
   "cell_type": "markdown",
   "metadata": {},
   "source": [
    "# PID Parameter Tuning Using Deep Learning\n"
   ]
  },
  {
   "cell_type": "raw",
   "metadata": {},
   "source": [
    "By: IO-T.NET Team (https://io-t.net/itclab)"
   ]
  },
  {
   "cell_type": "markdown",
   "metadata": {},
   "source": [
    "![PID_Deep_Learning](Deep_PID.jpg)\n",
    "Proses penalaan nilai Kc, τI dan τD pada\n",
    "pengendali PID menggunakan Deep Learning"
   ]
  },
  {
   "cell_type": "markdown",
   "metadata": {},
   "source": [
    "### Library yang dibutuhkan"
   ]
  },
  {
   "cell_type": "code",
   "execution_count": 42,
   "metadata": {},
   "outputs": [],
   "source": [
    "import numpy as np # For matrix math\n",
    "import matplotlib.pyplot as plt # For plotting\n",
    "\n",
    "import sys # For printing"
   ]
  },
  {
   "cell_type": "markdown",
   "metadata": {},
   "source": [
    "### Data Latih\n",
    "\n",
    "Misalkan error dan delta_error ideal untuk membangkitkan gain PID Kc, tauI dan tauD, sebagai berikut: "
   ]
  },
  {
   "cell_type": "code",
   "execution_count": 43,
   "metadata": {},
   "outputs": [],
   "source": [
    "# Data Latih.\n",
    "X = np.array([\n",
    "    [1, 1],\n",
    "    [0.4, 1.2],\n",
    "    [1.2, 0.1],\n",
    "    [1, 0.1]\n",
    "])\n",
    "\n",
    "# Label untuk Data Latih.\n",
    "y = np.array([\n",
    "    [0.25, 4.31, 0.20],\n",
    "    [0.2, 4.1, 0.1],\n",
    "    [0.1, 4.0, 0],\n",
    "    [0.1, 4.0, 0]\n",
    "])"
   ]
  },
  {
   "cell_type": "markdown",
   "metadata": {},
   "source": [
    "### Arsitektur Deep Learning\n",
    "Arsitektur Deep Learning dengan Dua Masukan dan Tiga Keluaran"
   ]
  },
  {
   "cell_type": "markdown",
   "metadata": {},
   "source": [
    "![arsitektur_DL](DL03.jpg)"
   ]
  },
  {
   "cell_type": "code",
   "execution_count": 44,
   "metadata": {},
   "outputs": [],
   "source": [
    "# Impor `Sequential` dari` keras.models`\n",
    "from keras.models import Sequential\n",
    "\n",
    "# Impor `Dense` dari` keras.layers`\n",
    "from keras.layers import Dense\n",
    "\n",
    "# Inisialisasi konstruktor\n",
    "model = Sequential()\n",
    "\n",
    "# Tambahkan lapisan masukan \n",
    "model.add(Dense(2, activation='sigmoid', input_shape=(2,)))\n",
    "\n",
    "# Tambahkan satu lapisan tersembunyi\n",
    "model.add(Dense(3, activation='sigmoid'))\n",
    "\n",
    "# Tambahkan lapisan keluaran\n",
    "model.add(Dense(3, activation='sigmoid'))"
   ]
  },
  {
   "cell_type": "code",
   "execution_count": 45,
   "metadata": {},
   "outputs": [
    {
     "name": "stdout",
     "output_type": "stream",
     "text": [
      "Model: \"sequential_1\"\n",
      "_________________________________________________________________\n",
      " Layer (type)                Output Shape              Param #   \n",
      "=================================================================\n",
      " dense_3 (Dense)             (None, 2)                 6         \n",
      "                                                                 \n",
      " dense_4 (Dense)             (None, 3)                 9         \n",
      "                                                                 \n",
      " dense_5 (Dense)             (None, 3)                 12        \n",
      "                                                                 \n",
      "=================================================================\n",
      "Total params: 27 (108.00 Byte)\n",
      "Trainable params: 27 (108.00 Byte)\n",
      "Non-trainable params: 0 (0.00 Byte)\n",
      "_________________________________________________________________\n"
     ]
    },
    {
     "data": {
      "text/plain": [
       "[array([[ 1.0956396 , -0.40167177],\n",
       "        [-0.1714741 , -0.14249814]], dtype=float32),\n",
       " array([0., 0.], dtype=float32),\n",
       " array([[ 0.6540258 ,  1.0830467 ,  0.44223344],\n",
       "        [ 0.26533806, -0.691223  ,  0.9030155 ]], dtype=float32),\n",
       " array([0., 0., 0.], dtype=float32),\n",
       " array([[ 0.26789904,  0.15584779, -0.4230957 ],\n",
       "        [-0.9043672 ,  0.6550486 , -0.40327096],\n",
       "        [ 0.6617336 , -0.674325  ,  0.31031728]], dtype=float32),\n",
       " array([0., 0., 0.], dtype=float32)]"
      ]
     },
     "execution_count": 45,
     "metadata": {},
     "output_type": "execute_result"
    }
   ],
   "source": [
    "# Bentuk keluaran model\n",
    "model.output_shape\n",
    "\n",
    "# Ringkasan model\n",
    "model.summary()\n",
    "\n",
    "# Konfigurasi model\n",
    "model.get_config()\n",
    "\n",
    "# Buat daftar semua tensor bobot \n",
    "model.get_weights()"
   ]
  },
  {
   "cell_type": "markdown",
   "metadata": {},
   "source": [
    "Untuk pelatihan Deep Learning silahkan ketikkan skrip berikut."
   ]
  },
  {
   "cell_type": "code",
   "execution_count": 46,
   "metadata": {},
   "outputs": [
    {
     "name": "stdout",
     "output_type": "stream",
     "text": [
      "Epoch 1/100\n",
      "4/4 [==============================] - 1s 2ms/step - loss: 0.5775 - accuracy: 0.7500\n",
      "Epoch 2/100\n",
      "4/4 [==============================] - 0s 0s/step - loss: 0.5559 - accuracy: 1.0000\n",
      "Epoch 3/100\n",
      "4/4 [==============================] - 0s 0s/step - loss: 0.5344 - accuracy: 1.0000\n",
      "Epoch 4/100\n",
      "4/4 [==============================] - 0s 0s/step - loss: 0.5128 - accuracy: 1.0000\n",
      "Epoch 5/100\n",
      "4/4 [==============================] - 0s 0s/step - loss: 0.4914 - accuracy: 1.0000\n",
      "Epoch 6/100\n",
      "4/4 [==============================] - 0s 0s/step - loss: 0.4700 - accuracy: 1.0000\n",
      "Epoch 7/100\n",
      "4/4 [==============================] - 0s 4ms/step - loss: 0.4487 - accuracy: 1.0000\n",
      "Epoch 8/100\n",
      "4/4 [==============================] - 0s 292us/step - loss: 0.4274 - accuracy: 1.0000\n",
      "Epoch 9/100\n",
      "4/4 [==============================] - 0s 5ms/step - loss: 0.4061 - accuracy: 1.0000\n",
      "Epoch 10/100\n",
      "4/4 [==============================] - 0s 5ms/step - loss: 0.3849 - accuracy: 1.0000\n",
      "Epoch 11/100\n",
      "4/4 [==============================] - 0s 5ms/step - loss: 0.3636 - accuracy: 1.0000\n",
      "Epoch 12/100\n",
      "4/4 [==============================] - 0s 5ms/step - loss: 0.3425 - accuracy: 1.0000\n",
      "Epoch 13/100\n",
      "4/4 [==============================] - 0s 0s/step - loss: 0.3215 - accuracy: 1.0000\n",
      "Epoch 14/100\n",
      "4/4 [==============================] - 0s 0s/step - loss: 0.3004 - accuracy: 1.0000\n",
      "Epoch 15/100\n",
      "4/4 [==============================] - 0s 0s/step - loss: 0.2794 - accuracy: 1.0000\n",
      "Epoch 16/100\n",
      "4/4 [==============================] - 0s 5ms/step - loss: 0.2585 - accuracy: 1.0000\n",
      "Epoch 17/100\n",
      "4/4 [==============================] - 0s 5ms/step - loss: 0.2376 - accuracy: 1.0000\n",
      "Epoch 18/100\n",
      "4/4 [==============================] - 0s 5ms/step - loss: 0.2167 - accuracy: 1.0000\n",
      "Epoch 19/100\n",
      "4/4 [==============================] - 0s 5ms/step - loss: 0.1959 - accuracy: 1.0000\n",
      "Epoch 20/100\n",
      "4/4 [==============================] - 0s 0s/step - loss: 0.1752 - accuracy: 1.0000\n",
      "Epoch 21/100\n",
      "4/4 [==============================] - 0s 5ms/step - loss: 0.1545 - accuracy: 1.0000\n",
      "Epoch 22/100\n",
      "4/4 [==============================] - 0s 3ms/step - loss: 0.1339 - accuracy: 1.0000\n",
      "Epoch 23/100\n",
      "4/4 [==============================] - 0s 5ms/step - loss: 0.1133 - accuracy: 1.0000\n",
      "Epoch 24/100\n",
      "4/4 [==============================] - 0s 5ms/step - loss: 0.0928 - accuracy: 1.0000\n",
      "Epoch 25/100\n",
      "4/4 [==============================] - 0s 5ms/step - loss: 0.0723 - accuracy: 1.0000\n",
      "Epoch 26/100\n",
      "4/4 [==============================] - 0s 5ms/step - loss: 0.0518 - accuracy: 1.0000\n",
      "Epoch 27/100\n",
      "4/4 [==============================] - 0s 5ms/step - loss: 0.0315 - accuracy: 1.0000\n",
      "Epoch 28/100\n",
      "4/4 [==============================] - 0s 5ms/step - loss: 0.0111 - accuracy: 1.0000\n",
      "Epoch 29/100\n",
      "4/4 [==============================] - 0s 5ms/step - loss: -0.0091 - accuracy: 1.0000\n",
      "Epoch 30/100\n",
      "4/4 [==============================] - 0s 3ms/step - loss: -0.0294 - accuracy: 1.0000\n",
      "Epoch 31/100\n",
      "4/4 [==============================] - 0s 5ms/step - loss: -0.0496 - accuracy: 1.0000\n",
      "Epoch 32/100\n",
      "4/4 [==============================] - 0s 5ms/step - loss: -0.0697 - accuracy: 1.0000\n",
      "Epoch 33/100\n",
      "4/4 [==============================] - 0s 6ms/step - loss: -0.0898 - accuracy: 1.0000\n",
      "Epoch 34/100\n",
      "4/4 [==============================] - 0s 5ms/step - loss: -0.1098 - accuracy: 1.0000\n",
      "Epoch 35/100\n",
      "4/4 [==============================] - 0s 5ms/step - loss: -0.1297 - accuracy: 1.0000\n",
      "Epoch 36/100\n",
      "4/4 [==============================] - 0s 5ms/step - loss: -0.1497 - accuracy: 1.0000\n",
      "Epoch 37/100\n",
      "4/4 [==============================] - 0s 5ms/step - loss: -0.1696 - accuracy: 1.0000\n",
      "Epoch 38/100\n",
      "4/4 [==============================] - 0s 5ms/step - loss: -0.1895 - accuracy: 1.0000\n",
      "Epoch 39/100\n",
      "4/4 [==============================] - 0s 0s/step - loss: -0.2092 - accuracy: 1.0000\n",
      "Epoch 40/100\n",
      "4/4 [==============================] - 0s 3ms/step - loss: -0.2289 - accuracy: 1.0000\n",
      "Epoch 41/100\n",
      "4/4 [==============================] - 0s 0s/step - loss: -0.2485 - accuracy: 1.0000\n",
      "Epoch 42/100\n",
      "4/4 [==============================] - 0s 0s/step - loss: -0.2682 - accuracy: 1.0000\n",
      "Epoch 43/100\n",
      "4/4 [==============================] - 0s 0s/step - loss: -0.2878 - accuracy: 1.0000\n",
      "Epoch 44/100\n",
      "4/4 [==============================] - 0s 0s/step - loss: -0.3073 - accuracy: 1.0000\n",
      "Epoch 45/100\n",
      "4/4 [==============================] - 0s 0s/step - loss: -0.3268 - accuracy: 1.0000\n",
      "Epoch 46/100\n",
      "4/4 [==============================] - 0s 0s/step - loss: -0.3462 - accuracy: 1.0000\n",
      "Epoch 47/100\n",
      "4/4 [==============================] - 0s 0s/step - loss: -0.3655 - accuracy: 1.0000\n",
      "Epoch 48/100\n",
      "4/4 [==============================] - 0s 5ms/step - loss: -0.3848 - accuracy: 1.0000\n",
      "Epoch 49/100\n",
      "4/4 [==============================] - 0s 5ms/step - loss: -0.4041 - accuracy: 1.0000\n",
      "Epoch 50/100\n",
      "4/4 [==============================] - 0s 0s/step - loss: -0.4234 - accuracy: 1.0000\n",
      "Epoch 51/100\n",
      "4/4 [==============================] - 0s 0s/step - loss: -0.4425 - accuracy: 1.0000\n",
      "Epoch 52/100\n",
      "4/4 [==============================] - 0s 0s/step - loss: -0.4616 - accuracy: 1.0000\n",
      "Epoch 53/100\n",
      "4/4 [==============================] - 0s 0s/step - loss: -0.4807 - accuracy: 1.0000\n",
      "Epoch 54/100\n",
      "4/4 [==============================] - 0s 1ms/step - loss: -0.4998 - accuracy: 1.0000\n",
      "Epoch 55/100\n",
      "4/4 [==============================] - 0s 0s/step - loss: -0.5187 - accuracy: 1.0000\n",
      "Epoch 56/100\n",
      "4/4 [==============================] - 0s 5ms/step - loss: -0.5377 - accuracy: 1.0000\n",
      "Epoch 57/100\n",
      "4/4 [==============================] - 0s 5ms/step - loss: -0.5565 - accuracy: 1.0000\n",
      "Epoch 58/100\n",
      "4/4 [==============================] - 0s 0s/step - loss: -0.5754 - accuracy: 1.0000\n",
      "Epoch 59/100\n",
      "4/4 [==============================] - 0s 0s/step - loss: -0.5941 - accuracy: 1.0000\n",
      "Epoch 60/100\n",
      "4/4 [==============================] - 0s 5ms/step - loss: -0.6129 - accuracy: 1.0000\n",
      "Epoch 61/100\n",
      "4/4 [==============================] - 0s 0s/step - loss: -0.6315 - accuracy: 1.0000\n",
      "Epoch 62/100\n",
      "4/4 [==============================] - 0s 0s/step - loss: -0.6502 - accuracy: 1.0000\n",
      "Epoch 63/100\n",
      "4/4 [==============================] - 0s 2ms/step - loss: -0.6688 - accuracy: 1.0000\n",
      "Epoch 64/100\n",
      "4/4 [==============================] - 0s 0s/step - loss: -0.6873 - accuracy: 1.0000\n",
      "Epoch 65/100\n",
      "4/4 [==============================] - 0s 5ms/step - loss: -0.7059 - accuracy: 1.0000\n",
      "Epoch 66/100\n",
      "4/4 [==============================] - 0s 5ms/step - loss: -0.7243 - accuracy: 1.0000\n",
      "Epoch 67/100\n",
      "4/4 [==============================] - 0s 0s/step - loss: -0.7427 - accuracy: 1.0000\n",
      "Epoch 68/100\n",
      "4/4 [==============================] - 0s 0s/step - loss: -0.7611 - accuracy: 1.0000\n",
      "Epoch 69/100\n",
      "4/4 [==============================] - 0s 5ms/step - loss: -0.7794 - accuracy: 1.0000\n",
      "Epoch 70/100\n",
      "4/4 [==============================] - 0s 5ms/step - loss: -0.7977 - accuracy: 1.0000\n",
      "Epoch 71/100\n",
      "4/4 [==============================] - 0s 10ms/step - loss: -0.8160 - accuracy: 1.0000\n",
      "Epoch 72/100\n",
      "4/4 [==============================] - 0s 5ms/step - loss: -0.8341 - accuracy: 1.0000\n",
      "Epoch 73/100\n",
      "4/4 [==============================] - 0s 5ms/step - loss: -0.8523 - accuracy: 1.0000\n",
      "Epoch 74/100\n",
      "4/4 [==============================] - 0s 5ms/step - loss: -0.8704 - accuracy: 1.0000\n",
      "Epoch 75/100\n",
      "4/4 [==============================] - 0s 0s/step - loss: -0.8885 - accuracy: 1.0000\n",
      "Epoch 76/100\n",
      "4/4 [==============================] - 0s 0s/step - loss: -0.9065 - accuracy: 1.0000\n",
      "Epoch 77/100\n",
      "4/4 [==============================] - 0s 5ms/step - loss: -0.9244 - accuracy: 1.0000\n",
      "Epoch 78/100\n",
      "4/4 [==============================] - 0s 3ms/step - loss: -0.9424 - accuracy: 1.0000\n",
      "Epoch 79/100\n",
      "4/4 [==============================] - 0s 0s/step - loss: -0.9602 - accuracy: 1.0000\n",
      "Epoch 80/100\n",
      "4/4 [==============================] - 0s 0s/step - loss: -0.9781 - accuracy: 1.0000\n",
      "Epoch 81/100\n",
      "4/4 [==============================] - 0s 5ms/step - loss: -0.9960 - accuracy: 1.0000\n",
      "Epoch 82/100\n",
      "4/4 [==============================] - 0s 5ms/step - loss: -1.0137 - accuracy: 1.0000\n",
      "Epoch 83/100\n",
      "4/4 [==============================] - 0s 0s/step - loss: -1.0314 - accuracy: 1.0000\n",
      "Epoch 84/100\n",
      "4/4 [==============================] - 0s 0s/step - loss: -1.0492 - accuracy: 1.0000\n",
      "Epoch 85/100\n",
      "4/4 [==============================] - 0s 5ms/step - loss: -1.0668 - accuracy: 1.0000\n",
      "Epoch 86/100\n",
      "4/4 [==============================] - 0s 4ms/step - loss: -1.0843 - accuracy: 1.0000\n",
      "Epoch 87/100\n",
      "4/4 [==============================] - 0s 0s/step - loss: -1.1019 - accuracy: 1.0000\n",
      "Epoch 88/100\n",
      "4/4 [==============================] - 0s 5ms/step - loss: -1.1195 - accuracy: 1.0000\n",
      "Epoch 89/100\n",
      "4/4 [==============================] - 0s 5ms/step - loss: -1.1369 - accuracy: 1.0000\n",
      "Epoch 90/100\n",
      "4/4 [==============================] - 0s 0s/step - loss: -1.1545 - accuracy: 1.0000\n",
      "Epoch 91/100\n",
      "4/4 [==============================] - 0s 5ms/step - loss: -1.1718 - accuracy: 1.0000\n",
      "Epoch 92/100\n",
      "4/4 [==============================] - 0s 0s/step - loss: -1.1892 - accuracy: 1.0000\n",
      "Epoch 93/100\n",
      "4/4 [==============================] - 0s 1ms/step - loss: -1.2066 - accuracy: 1.0000\n",
      "Epoch 94/100\n",
      "4/4 [==============================] - 0s 4ms/step - loss: -1.2238 - accuracy: 1.0000\n",
      "Epoch 95/100\n",
      "4/4 [==============================] - 0s 0s/step - loss: -1.2412 - accuracy: 1.0000\n",
      "Epoch 96/100\n",
      "4/4 [==============================] - 0s 838us/step - loss: -1.2584 - accuracy: 1.0000\n",
      "Epoch 97/100\n",
      "4/4 [==============================] - 0s 5ms/step - loss: -1.2756 - accuracy: 1.0000\n",
      "Epoch 98/100\n",
      "4/4 [==============================] - 0s 0s/step - loss: -1.2928 - accuracy: 1.0000\n",
      "Epoch 99/100\n",
      "4/4 [==============================] - 0s 0s/step - loss: -1.3099 - accuracy: 1.0000\n",
      "Epoch 100/100\n",
      "4/4 [==============================] - 0s 5ms/step - loss: -1.3270 - accuracy: 1.0000\n"
     ]
    },
    {
     "data": {
      "text/plain": [
       "<keras.src.callbacks.History at 0x1850907bc50>"
      ]
     },
     "execution_count": 46,
     "metadata": {},
     "output_type": "execute_result"
    }
   ],
   "source": [
    "model.compile(loss='binary_crossentropy',\n",
    "              optimizer='adam',\n",
    "              metrics=['accuracy'])\n",
    "                   \n",
    "model.fit(X, y,epochs=100, batch_size=1, verbose=1)"
   ]
  },
  {
   "cell_type": "code",
   "execution_count": 47,
   "metadata": {},
   "outputs": [
    {
     "name": "stdout",
     "output_type": "stream",
     "text": [
      "1/1 [==============================] - 0s 47ms/step\n",
      "[[0.24453239 0.8341355  0.18436413]\n",
      " [0.25178796 0.82828206 0.18918379]\n",
      " [0.24446805 0.8346314  0.18357222]\n",
      " [0.24636793 0.83322346 0.18463148]]\n"
     ]
    }
   ],
   "source": [
    "Hasil_Prediksi_Keras = model.predict(X)\n",
    "print(Hasil_Prediksi_Keras)"
   ]
  },
  {
   "cell_type": "markdown",
   "metadata": {},
   "source": [
    "### Dicoba diberi masukan e(t) sembarang\n",
    "Pengujian ke-1"
   ]
  },
  {
   "cell_type": "code",
   "execution_count": 48,
   "metadata": {},
   "outputs": [],
   "source": [
    "ujicoba1 = np.array([\n",
    "    [1, 1]\n",
    "])"
   ]
  },
  {
   "cell_type": "code",
   "execution_count": 49,
   "metadata": {},
   "outputs": [
    {
     "data": {
      "text/plain": [
       "array([[1, 1]])"
      ]
     },
     "execution_count": 49,
     "metadata": {},
     "output_type": "execute_result"
    }
   ],
   "source": [
    "ujicoba1"
   ]
  },
  {
   "cell_type": "code",
   "execution_count": 50,
   "metadata": {},
   "outputs": [
    {
     "name": "stdout",
     "output_type": "stream",
     "text": [
      "1/1 [==============================] - 0s 63ms/step\n"
     ]
    }
   ],
   "source": [
    "outDL = model.predict(ujicoba1)"
   ]
  },
  {
   "cell_type": "code",
   "execution_count": 51,
   "metadata": {},
   "outputs": [
    {
     "data": {
      "text/plain": [
       "array([[0.24453239, 0.8341355 , 0.18436413]], dtype=float32)"
      ]
     },
     "execution_count": 51,
     "metadata": {},
     "output_type": "execute_result"
    }
   ],
   "source": [
    "outDL"
   ]
  },
  {
   "cell_type": "code",
   "execution_count": 52,
   "metadata": {},
   "outputs": [],
   "source": [
    "result_Kc   = outDL[0,0]\n",
    "result_tauI = outDL[0,1]\n",
    "result_tauD = outDL[0,2]"
   ]
  },
  {
   "cell_type": "code",
   "execution_count": 53,
   "metadata": {},
   "outputs": [
    {
     "data": {
      "text/plain": [
       "0.24453239"
      ]
     },
     "execution_count": 53,
     "metadata": {},
     "output_type": "execute_result"
    }
   ],
   "source": [
    "result_Kc"
   ]
  },
  {
   "cell_type": "code",
   "execution_count": 54,
   "metadata": {},
   "outputs": [
    {
     "data": {
      "text/plain": [
       "0.8341355"
      ]
     },
     "execution_count": 54,
     "metadata": {},
     "output_type": "execute_result"
    }
   ],
   "source": [
    "result_tauI"
   ]
  },
  {
   "cell_type": "code",
   "execution_count": 55,
   "metadata": {},
   "outputs": [
    {
     "data": {
      "text/plain": [
       "0.18436413"
      ]
     },
     "execution_count": 55,
     "metadata": {},
     "output_type": "execute_result"
    }
   ],
   "source": [
    "result_tauD"
   ]
  },
  {
   "cell_type": "code",
   "execution_count": 56,
   "metadata": {},
   "outputs": [
    {
     "data": {
      "image/png": "[encoded data removed]",
      "text/plain": [
       "<Figure size 640x480 with 1 Axes>"
      ]
     },
     "metadata": {},
     "output_type": "display_data"
    }
   ],
   "source": [
    "# Visualize \n",
    "plt.plot(result_Kc, 'ro', label='Kc')\n",
    "plt.plot(result_tauI, 'go', label='tauI')\n",
    "plt.plot(result_tauD, 'bo', label='tauD')\n",
    "\n",
    "#plt.xlabel('Kc, tauI, tauD');\n",
    "#plt.legend((result_Kc, result_tauI, result_tauD), ('Kc', 'tauI', 'tauD'))\n",
    "\n",
    "plt.legend(loc='upper left')\n",
    "#pylab.ylim(-1.5, 2.0)\n",
    "plt.show()"
   ]
  },
  {
   "cell_type": "markdown",
   "metadata": {},
   "source": [
    "# Implementasi Parameter Tuning Menggunakan Deep Learning Pada Pengendali PID sebagai berikut\n"
   ]
  },
  {
   "cell_type": "code",
   "execution_count": 57,
   "metadata": {},
   "outputs": [],
   "source": [
    "import numpy as np\n",
    "import matplotlib.pyplot as plt\n",
    "from scipy.integrate import odeint\n",
    "import ipywidgets as wg\n",
    "from IPython.display import display"
   ]
  },
  {
   "cell_type": "code",
   "execution_count": 58,
   "metadata": {},
   "outputs": [
    {
     "data": {
      "application/vnd.jupyter.widget-view+json": {
       "model_id": "e9a2f7a951b94ddfb51842e4dafee081",
       "version_major": 2,
       "version_minor": 0
      },
      "text/plain": [
       "interactive(children=(FloatSlider(value=0.24453239142894745, description='Kc', max=0.7335971742868423, min=-0.…"
      ]
     },
     "metadata": {},
     "output_type": "display_data"
    },
    {
     "data": {
      "text/plain": [
       "<function __main__.pidPlot(Kc, tauI, tauD)>"
      ]
     },
     "execution_count": 58,
     "metadata": {},
     "output_type": "execute_result"
    }
   ],
   "source": [
    "n = 100 # time points to plot\n",
    "tf = 50.0 # final time\n",
    "SP_start = 2.0 # time of set point change\n",
    "\n",
    "def process(y,t,u):\n",
    "    Kp = 4.0\n",
    "    taup = 3.0\n",
    "    thetap = 1.0\n",
    "    if t<(thetap+SP_start):\n",
    "        dydt = 0.0  # time delay\n",
    "    else:\n",
    "        dydt = (1.0/taup) * (-y + Kp * u)\n",
    "    return dydt\n",
    "\n",
    "def pidPlot(Kc,tauI,tauD):\n",
    "    t = np.linspace(0,tf,n) # create time vector\n",
    "    P= np.zeros(n)          # initialize proportional term\n",
    "    I = np.zeros(n)         # initialize integral term\n",
    "    D = np.zeros(n)         # initialize derivative term\n",
    "    e = np.zeros(n)         # initialize error\n",
    "    OP = np.zeros(n)        # initialize controller output\n",
    "    PV = np.zeros(n)        # initialize process variable\n",
    "    SP = np.zeros(n)        # initialize setpoint\n",
    "    SP_step = int(SP_start/(tf/(n-1))+1) # setpoint start\n",
    "    SP[0:SP_step] = 0.0     # define setpoint\n",
    "    SP[SP_step:n] = 4.0     # step up\n",
    "    y0 = 0.0                # initial condition\n",
    "    # loop through all time steps\n",
    "    for i in range(1,n):\n",
    "        # simulate process for one time step\n",
    "        ts = [t[i-1],t[i]]         # time interval\n",
    "        y = odeint(process,y0,ts,args=(OP[i-1],))  # compute next step\n",
    "        y0 = y[1]                  # record new initial condition\n",
    "        # calculate new OP with PID\n",
    "        PV[i] = y[1]               # record PV\n",
    "        e[i] = SP[i] - PV[i]       # calculate error = SP - PV\n",
    "        dt = t[i] - t[i-1]         # calculate time step\n",
    "        P[i] = Kc * e[i]           # calculate proportional term\n",
    "        I[i] = I[i-1] + (Kc/tauI) * e[i] * dt  # calculate integral term\n",
    "        D[i] = -Kc * tauD * (PV[i]-PV[i-1])/dt # calculate derivative term\n",
    "        OP[i] = P[i] + I[i] + D[i] # calculate new controller output\n",
    "        \n",
    "    # plot PID response\n",
    "    plt.figure(1,figsize=(15,7))\n",
    "    plt.subplot(2,2,1)\n",
    "    plt.plot(t,SP,'k-',linewidth=2,label='Setpoint (SP)')\n",
    "    plt.plot(t,PV,'r:',linewidth=2,label='Process Variable (PV)')\n",
    "    plt.legend(loc='best')\n",
    "    plt.subplot(2,2,2)\n",
    "    plt.plot(t,P,'g.-',linewidth=2,label=r'Proportional = $K_c \\; e(t)$')\n",
    "    plt.plot(t,I,'b-',linewidth=2,label=r'Integral = $\\frac{K_c}{\\tau_I} \\int_{i=0}^{n_t} e(t) \\; dt $')\n",
    "    plt.plot(t,D,'r--',linewidth=2,label=r'Derivative = $-K_c \\tau_D \\frac{d(PV)}{dt}$')    \n",
    "    plt.legend(loc='best')\n",
    "    plt.subplot(2,2,3)\n",
    "    plt.plot(t,e,'m--',linewidth=2,label='Error (e=SP-PV)')\n",
    "    plt.legend(loc='best')\n",
    "    plt.subplot(2,2,4)\n",
    "    plt.plot(t,OP,'b--',linewidth=2,label='Controller Output (OP)')\n",
    "    plt.legend(loc='best')\n",
    "    plt.xlabel('time')\n",
    "    \n",
    "Kc_slide = result_Kc\n",
    "tauI_slide = result_tauI\n",
    "tauD_slide = result_tauD\n",
    "wg.interact(pidPlot, Kc=Kc_slide, tauI=tauI_slide, tauD=tauD_slide)"
   ]
  },
  {
   "cell_type": "markdown",
   "metadata": {},
   "source": [
    "### Dicoba diberi masukan e(t) sembarang\n",
    "Pengujian ke-2"
   ]
  },
  {
   "cell_type": "code",
   "execution_count": 59,
   "metadata": {},
   "outputs": [],
   "source": [
    "ujicoba2 = np.array([\n",
    "    [0.4, 1.2]\n",
    "])"
   ]
  },
  {
   "cell_type": "code",
   "execution_count": 60,
   "metadata": {},
   "outputs": [
    {
     "data": {
      "text/plain": [
       "array([[0.4, 1.2]])"
      ]
     },
     "execution_count": 60,
     "metadata": {},
     "output_type": "execute_result"
    }
   ],
   "source": [
    "ujicoba2"
   ]
  },
  {
   "cell_type": "code",
   "execution_count": 61,
   "metadata": {},
   "outputs": [
    {
     "name": "stdout",
     "output_type": "stream",
     "text": [
      "1/1 [==============================] - 0s 16ms/step\n"
     ]
    }
   ],
   "source": [
    "outDL = model.predict(ujicoba2)"
   ]
  },
  {
   "cell_type": "code",
   "execution_count": 62,
   "metadata": {},
   "outputs": [
    {
     "data": {
      "text/plain": [
       "array([[0.25178796, 0.82828206, 0.18918379]], dtype=float32)"
      ]
     },
     "execution_count": 62,
     "metadata": {},
     "output_type": "execute_result"
    }
   ],
   "source": [
    "outDL"
   ]
  },
  {
   "cell_type": "code",
   "execution_count": 63,
   "metadata": {},
   "outputs": [],
   "source": [
    "result_Kc   = outDL[0,0]\n",
    "result_tauI = outDL[0,1]\n",
    "result_tauD = outDL[0,2]"
   ]
  },
  {
   "cell_type": "code",
   "execution_count": 64,
   "metadata": {},
   "outputs": [
    {
     "data": {
      "text/plain": [
       "0.25178796"
      ]
     },
     "execution_count": 64,
     "metadata": {},
     "output_type": "execute_result"
    }
   ],
   "source": [
    "result_Kc"
   ]
  },
  {
   "cell_type": "code",
   "execution_count": 65,
   "metadata": {},
   "outputs": [
    {
     "data": {
      "text/plain": [
       "0.82828206"
      ]
     },
     "execution_count": 65,
     "metadata": {},
     "output_type": "execute_result"
    }
   ],
   "source": [
    "result_tauI"
   ]
  },
  {
   "cell_type": "code",
   "execution_count": 66,
   "metadata": {},
   "outputs": [
    {
     "data": {
      "text/plain": [
       "0.18918379"
      ]
     },
     "execution_count": 66,
     "metadata": {},
     "output_type": "execute_result"
    }
   ],
   "source": [
    "result_tauD"
   ]
  },
  {
   "cell_type": "code",
   "execution_count": 67,
   "metadata": {},
   "outputs": [
    {
     "data": {
      "image/png": "[encoded data removed]",
      "text/plain": [
       "<Figure size 640x480 with 1 Axes>"
      ]
     },
     "metadata": {},
     "output_type": "display_data"
    }
   ],
   "source": [
    "# Visualize \n",
    "plt.plot(result_Kc, 'ro', label='Kc')\n",
    "plt.plot(result_tauI, 'go', label='tauI')\n",
    "plt.plot(result_tauD, 'bo', label='tauD')\n",
    "\n",
    "#plt.xlabel('Kc, tauI, tauD');\n",
    "#plt.legend((result_Kc, result_tauI, result_tauD), ('Kc', 'tauI', 'tauD'))\n",
    "\n",
    "plt.legend(loc='upper left')\n",
    "#pylab.ylim(-1.5, 2.0)\n",
    "plt.show()"
   ]
  },
  {
   "cell_type": "code",
   "execution_count": 68,
   "metadata": {},
   "outputs": [],
   "source": [
    "import numpy as np\n",
    "import matplotlib.pyplot as plt\n",
    "from scipy.integrate import odeint\n",
    "import ipywidgets as wg\n",
    "from IPython.display import display"
   ]
  },
  {
   "cell_type": "code",
   "execution_count": 69,
   "metadata": {},
   "outputs": [
    {
     "data": {
      "application/vnd.jupyter.widget-view+json": {
       "model_id": "8dbefe67155b4bdc84a972358f0a5fd5",
       "version_major": 2,
       "version_minor": 0
      },
      "text/plain": [
       "interactive(children=(FloatSlider(value=0.2517879605293274, description='Kc', max=0.7553638815879822, min=-0.2…"
      ]
     },
     "metadata": {},
     "output_type": "display_data"
    },
    {
     "data": {
      "text/plain": [
       "<function __main__.pidPlot(Kc, tauI, tauD)>"
      ]
     },
     "execution_count": 69,
     "metadata": {},
     "output_type": "execute_result"
    }
   ],
   "source": [
    "n = 100 # time points to plot\n",
    "tf = 50.0 # final time\n",
    "SP_start = 2.0 # time of set point change\n",
    "\n",
    "def process(y,t,u):\n",
    "    Kp = 4.0\n",
    "    taup = 3.0\n",
    "    thetap = 1.0\n",
    "    if t<(thetap+SP_start):\n",
    "        dydt = 0.0  # time delay\n",
    "    else:\n",
    "        dydt = (1.0/taup) * (-y + Kp * u)\n",
    "    return dydt\n",
    "\n",
    "def pidPlot(Kc,tauI,tauD):\n",
    "    t = np.linspace(0,tf,n) # create time vector\n",
    "    P= np.zeros(n)          # initialize proportional term\n",
    "    I = np.zeros(n)         # initialize integral term\n",
    "    D = np.zeros(n)         # initialize derivative term\n",
    "    e = np.zeros(n)         # initialize error\n",
    "    OP = np.zeros(n)        # initialize controller output\n",
    "    PV = np.zeros(n)        # initialize process variable\n",
    "    SP = np.zeros(n)        # initialize setpoint\n",
    "    SP_step = int(SP_start/(tf/(n-1))+1) # setpoint start\n",
    "    SP[0:SP_step] = 0.0     # define setpoint\n",
    "    SP[SP_step:n] = 4.0     # step up\n",
    "    y0 = 0.0                # initial condition\n",
    "    # loop through all time steps\n",
    "    for i in range(1,n):\n",
    "        # simulate process for one time step\n",
    "        ts = [t[i-1],t[i]]         # time interval\n",
    "        y = odeint(process,y0,ts,args=(OP[i-1],))  # compute next step\n",
    "        y0 = y[1]                  # record new initial condition\n",
    "        # calculate new OP with PID\n",
    "        PV[i] = y[1]               # record PV\n",
    "        e[i] = SP[i] - PV[i]       # calculate error = SP - PV\n",
    "        dt = t[i] - t[i-1]         # calculate time step\n",
    "        P[i] = Kc * e[i]           # calculate proportional term\n",
    "        I[i] = I[i-1] + (Kc/tauI) * e[i] * dt  # calculate integral term\n",
    "        D[i] = -Kc * tauD * (PV[i]-PV[i-1])/dt # calculate derivative term\n",
    "        OP[i] = P[i] + I[i] + D[i] # calculate new controller output\n",
    "        \n",
    "    # plot PID response\n",
    "    plt.figure(1,figsize=(15,7))\n",
    "    plt.subplot(2,2,1)\n",
    "    plt.plot(t,SP,'k-',linewidth=2,label='Setpoint (SP)')\n",
    "    plt.plot(t,PV,'r:',linewidth=2,label='Process Variable (PV)')\n",
    "    plt.legend(loc='best')\n",
    "    plt.subplot(2,2,2)\n",
    "    plt.plot(t,P,'g.-',linewidth=2,label=r'Proportional = $K_c \\; e(t)$')\n",
    "    plt.plot(t,I,'b-',linewidth=2,label=r'Integral = $\\frac{K_c}{\\tau_I} \\int_{i=0}^{n_t} e(t) \\; dt $')\n",
    "    plt.plot(t,D,'r--',linewidth=2,label=r'Derivative = $-K_c \\tau_D \\frac{d(PV)}{dt}$')    \n",
    "    plt.legend(loc='best')\n",
    "    plt.subplot(2,2,3)\n",
    "    plt.plot(t,e,'m--',linewidth=2,label='Error (e=SP-PV)')\n",
    "    plt.legend(loc='best')\n",
    "    plt.subplot(2,2,4)\n",
    "    plt.plot(t,OP,'b--',linewidth=2,label='Controller Output (OP)')\n",
    "    plt.legend(loc='best')\n",
    "    plt.xlabel('time')\n",
    "    \n",
    "Kc_slide = result_Kc\n",
    "tauI_slide = result_tauI\n",
    "tauD_slide = result_tauD\n",
    "wg.interact(pidPlot, Kc=Kc_slide, tauI=tauI_slide, tauD=tauD_slide)"
   ]
  },
  {
   "cell_type": "markdown",
   "metadata": {},
   "source": [
    "### Dicoba diberi masukan e(t) sembarang\n",
    "Pengujian ke-3"
   ]
  },
  {
   "cell_type": "code",
   "execution_count": 70,
   "metadata": {},
   "outputs": [],
   "source": [
    "ujicoba3 = np.array([\n",
    "    [1.2, 0.1]\n",
    "])"
   ]
  },
  {
   "cell_type": "code",
   "execution_count": 71,
   "metadata": {},
   "outputs": [
    {
     "data": {
      "text/plain": [
       "array([[1.2, 0.1]])"
      ]
     },
     "execution_count": 71,
     "metadata": {},
     "output_type": "execute_result"
    }
   ],
   "source": [
    "ujicoba3"
   ]
  },
  {
   "cell_type": "code",
   "execution_count": 72,
   "metadata": {},
   "outputs": [
    {
     "name": "stdout",
     "output_type": "stream",
     "text": [
      "1/1 [==============================] - 0s 31ms/step\n"
     ]
    }
   ],
   "source": [
    "outDL = model.predict(ujicoba3)"
   ]
  },
  {
   "cell_type": "code",
   "execution_count": 73,
   "metadata": {},
   "outputs": [
    {
     "data": {
      "text/plain": [
       "array([[0.24446805, 0.8346314 , 0.18357222]], dtype=float32)"
      ]
     },
     "execution_count": 73,
     "metadata": {},
     "output_type": "execute_result"
    }
   ],
   "source": [
    "outDL"
   ]
  },
  {
   "cell_type": "code",
   "execution_count": 74,
   "metadata": {},
   "outputs": [],
   "source": [
    "result_Kc   = outDL[0,0]\n",
    "result_tauI = outDL[0,1]\n",
    "result_tauD = outDL[0,2]"
   ]
  },
  {
   "cell_type": "code",
   "execution_count": 75,
   "metadata": {},
   "outputs": [
    {
     "data": {
      "text/plain": [
       "0.24446805"
      ]
     },
     "execution_count": 75,
     "metadata": {},
     "output_type": "execute_result"
    }
   ],
   "source": [
    "result_Kc"
   ]
  },
  {
   "cell_type": "code",
   "execution_count": 76,
   "metadata": {},
   "outputs": [
    {
     "data": {
      "text/plain": [
       "0.8346314"
      ]
     },
     "execution_count": 76,
     "metadata": {},
     "output_type": "execute_result"
    }
   ],
   "source": [
    "result_tauI"
   ]
  },
  {
   "cell_type": "code",
   "execution_count": 77,
   "metadata": {},
   "outputs": [
    {
     "data": {
      "text/plain": [
       "0.18357222"
      ]
     },
     "execution_count": 77,
     "metadata": {},
     "output_type": "execute_result"
    }
   ],
   "source": [
    "result_tauD"
   ]
  },
  {
   "cell_type": "code",
   "execution_count": 78,
   "metadata": {},
   "outputs": [
    {
     "data": {
      "image/png": "[encoded data removed]",
      "text/plain": [
       "<Figure size 640x480 with 1 Axes>"
      ]
     },
     "metadata": {},
     "output_type": "display_data"
    }
   ],
   "source": [
    "# Visualize \n",
    "plt.plot(result_Kc, 'ro', label='Kc')\n",
    "plt.plot(result_tauI, 'go', label='tauI')\n",
    "plt.plot(result_tauD, 'bo', label='tauD')\n",
    "\n",
    "#plt.xlabel('Kc, tauI, tauD');\n",
    "#plt.legend((result_Kc, result_tauI, result_tauD), ('Kc', 'tauI', 'tauD'))\n",
    "\n",
    "plt.legend(loc='upper left')\n",
    "#pylab.ylim(-1.5, 2.0)\n",
    "plt.show()"
   ]
  },
  {
   "cell_type": "code",
   "execution_count": 79,
   "metadata": {},
   "outputs": [],
   "source": [
    "import numpy as np\n",
    "import matplotlib.pyplot as plt\n",
    "from scipy.integrate import odeint\n",
    "import ipywidgets as wg\n",
    "from IPython.display import display"
   ]
  },
  {
   "cell_type": "code",
   "execution_count": 80,
   "metadata": {},
   "outputs": [
    {
     "data": {
      "application/vnd.jupyter.widget-view+json": {
       "model_id": "aa927c4c0bb847219a82772a0dd9daa4",
       "version_major": 2,
       "version_minor": 0
      },
      "text/plain": [
       "interactive(children=(FloatSlider(value=0.24446804821491241, description='Kc', max=0.7334041446447372, min=-0.…"
      ]
     },
     "metadata": {},
     "output_type": "display_data"
    },
    {
     "data": {
      "text/plain": [
       "<function __main__.pidPlot(Kc, tauI, tauD)>"
      ]
     },
     "execution_count": 80,
     "metadata": {},
     "output_type": "execute_result"
    }
   ],
   "source": [
    "n = 100 # time points to plot\n",
    "tf = 50.0 # final time\n",
    "SP_start = 2.0 # time of set point change\n",
    "\n",
    "def process(y,t,u):\n",
    "    Kp = 4.0\n",
    "    taup = 3.0\n",
    "    thetap = 1.0\n",
    "    if t<(thetap+SP_start):\n",
    "        dydt = 0.0  # time delay\n",
    "    else:\n",
    "        dydt = (1.0/taup) * (-y + Kp * u)\n",
    "    return dydt\n",
    "\n",
    "def pidPlot(Kc,tauI,tauD):\n",
    "    t = np.linspace(0,tf,n) # create time vector\n",
    "    P= np.zeros(n)          # initialize proportional term\n",
    "    I = np.zeros(n)         # initialize integral term\n",
    "    D = np.zeros(n)         # initialize derivative term\n",
    "    e = np.zeros(n)         # initialize error\n",
    "    OP = np.zeros(n)        # initialize controller output\n",
    "    PV = np.zeros(n)        # initialize process variable\n",
    "    SP = np.zeros(n)        # initialize setpoint\n",
    "    SP_step = int(SP_start/(tf/(n-1))+1) # setpoint start\n",
    "    SP[0:SP_step] = 0.0     # define setpoint\n",
    "    SP[SP_step:n] = 4.0     # step up\n",
    "    y0 = 0.0                # initial condition\n",
    "    # loop through all time steps\n",
    "    for i in range(1,n):\n",
    "        # simulate process for one time step\n",
    "        ts = [t[i-1],t[i]]         # time interval\n",
    "        y = odeint(process,y0,ts,args=(OP[i-1],))  # compute next step\n",
    "        y0 = y[1]                  # record new initial condition\n",
    "        # calculate new OP with PID\n",
    "        PV[i] = y[1]               # record PV\n",
    "        e[i] = SP[i] - PV[i]       # calculate error = SP - PV\n",
    "        dt = t[i] - t[i-1]         # calculate time step\n",
    "        P[i] = Kc * e[i]           # calculate proportional term\n",
    "        I[i] = I[i-1] + (Kc/tauI) * e[i] * dt  # calculate integral term\n",
    "        D[i] = -Kc * tauD * (PV[i]-PV[i-1])/dt # calculate derivative term\n",
    "        OP[i] = P[i] + I[i] + D[i] # calculate new controller output\n",
    "        \n",
    "    # plot PID response\n",
    "    plt.figure(1,figsize=(15,7))\n",
    "    plt.subplot(2,2,1)\n",
    "    plt.plot(t,SP,'k-',linewidth=2,label='Setpoint (SP)')\n",
    "    plt.plot(t,PV,'r:',linewidth=2,label='Process Variable (PV)')\n",
    "    plt.legend(loc='best')\n",
    "    plt.subplot(2,2,2)\n",
    "    plt.plot(t,P,'g.-',linewidth=2,label=r'Proportional = $K_c \\; e(t)$')\n",
    "    plt.plot(t,I,'b-',linewidth=2,label=r'Integral = $\\frac{K_c}{\\tau_I} \\int_{i=0}^{n_t} e(t) \\; dt $')\n",
    "    plt.plot(t,D,'r--',linewidth=2,label=r'Derivative = $-K_c \\tau_D \\frac{d(PV)}{dt}$')    \n",
    "    plt.legend(loc='best')\n",
    "    plt.subplot(2,2,3)\n",
    "    plt.plot(t,e,'m--',linewidth=2,label='Error (e=SP-PV)')\n",
    "    plt.legend(loc='best')\n",
    "    plt.subplot(2,2,4)\n",
    "    plt.plot(t,OP,'b--',linewidth=2,label='Controller Output (OP)')\n",
    "    plt.legend(loc='best')\n",
    "    plt.xlabel('time')\n",
    "    \n",
    "Kc_slide = result_Kc\n",
    "tauI_slide = result_tauI\n",
    "tauD_slide = result_tauD\n",
    "wg.interact(pidPlot, Kc=Kc_slide, tauI=tauI_slide, tauD=tauD_slide)"
   ]
  },
  {
   "cell_type": "code",
   "execution_count": null,
   "metadata": {},
   "outputs": [],
   "source": []
  }
 ],
 "metadata": {
  "kernelspec": {
   "display_name": "Python 3 (ipykernel)",
   "language": "python",
   "name": "python3"
  },
  "language_info": {
   "codemirror_mode": {
    "name": "ipython",
    "version": 3
   },
   "file_extension": ".py",
   "mimetype": "text/x-python",
   "name": "python",
   "nbconvert_exporter": "python",
   "pygments_lexer": "ipython3",
   "version": "3.11.6"
  }
 },
 "nbformat": 4,
 "nbformat_minor": 4
}
